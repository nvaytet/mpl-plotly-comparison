{
 "cells": [
  {
   "cell_type": "code",
   "execution_count": null,
   "metadata": {},
   "outputs": [],
   "source": [
    "import plotly.graph_objects as go\n",
    "import ipywidgets as widgets\n",
    "import numpy as np\n",
    "import IPython.display as disp\n",
    "import matplotlib.pyplot as plt"
   ]
  },
  {
   "cell_type": "code",
   "execution_count": null,
   "metadata": {},
   "outputs": [],
   "source": [
    "%matplotlib notebook"
   ]
  },
  {
   "cell_type": "code",
   "execution_count": null,
   "metadata": {},
   "outputs": [],
   "source": [
    "N = 1000\n",
    "M = 500\n",
    "xx = np.linspace(0.0, 12.0, N)\n",
    "yy = np.linspace(0.0, 6.0, N)\n",
    "x, y = np.meshgrid(xx, yy)\n",
    "a = [np.sin(np.sqrt(x**2 + y**2))]\n",
    "a.append(np.random.normal(a[0] * 0.1, 0.05))"
   ]
  },
  {
   "cell_type": "code",
   "execution_count": null,
   "metadata": {},
   "outputs": [],
   "source": [
    "fig1, ax = plt.subplots(1, 1)\n",
    "ax.plot(xx, a[0][:, 0])\n",
    "ax.plot(xx, a[1][:, 0])\n",
    "ax.set_ylim([-1, 1])\n",
    "\n",
    "sl = widgets.IntSlider(\n",
    "                value=0,\n",
    "                min=0,\n",
    "                max=M,\n",
    "                step=1,\n",
    "                continuous_update=True,\n",
    "                readout=True)\n",
    "\n",
    "def update_y(change):\n",
    "    for i, line in enumerate(ax.lines):\n",
    "        line.set_ydata(a[i][:, change[\"new\"]])\n",
    "sl.observe(update_y, names=\"value\")\n",
    "\n",
    "disp.display(sl)"
   ]
  },
  {
   "cell_type": "code",
   "execution_count": null,
   "metadata": {
    "scrolled": false
   },
   "outputs": [],
   "source": [
    "fig2 = go.FigureWidget(layout={\"yaxis\": {\"range\": [-1, 1]}})\n",
    "fig2.add_trace(go.Scatter(x=xx, y=a[0][:, 0]))\n",
    "fig2.add_trace(go.Scatter(x=xx, y=a[1][:, 0]))\n",
    "\n",
    "sl2 = widgets.IntSlider(\n",
    "                value=0,\n",
    "                min=0,\n",
    "                max=M,\n",
    "                step=1,\n",
    "                continuous_update=True,\n",
    "                readout=True)\n",
    "\n",
    "def update_y2(change):\n",
    "    for i in range(len(fig2.data)):\n",
    "        fig2.data[i].y = a[i][:, change[\"new\"]]\n",
    "sl2.observe(update_y2, names=\"value\")\n",
    "\n",
    "disp.display(widgets.VBox((fig2, sl2)))"
   ]
  },
  {
   "cell_type": "code",
   "execution_count": null,
   "metadata": {},
   "outputs": [],
   "source": []
  }
 ],
 "metadata": {
  "kernelspec": {
   "display_name": "Python 3",
   "language": "python",
   "name": "python3"
  },
  "language_info": {
   "codemirror_mode": {
    "name": "ipython",
    "version": 3
   },
   "file_extension": ".py",
   "mimetype": "text/x-python",
   "name": "python",
   "nbconvert_exporter": "python",
   "pygments_lexer": "ipython3",
   "version": "3.7.3"
  }
 },
 "nbformat": 4,
 "nbformat_minor": 2
}
